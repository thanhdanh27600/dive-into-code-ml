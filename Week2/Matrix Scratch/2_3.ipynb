{
 "metadata": {
  "language_info": {
   "codemirror_mode": {
    "name": "ipython",
    "version": 3
   },
   "file_extension": ".py",
   "mimetype": "text/x-python",
   "name": "python",
   "nbconvert_exporter": "python",
   "pygments_lexer": "ipython3",
   "version": "3.8.5-final"
  },
  "orig_nbformat": 2,
  "kernelspec": {
   "name": "python3",
   "display_name": "Python 3",
   "language": "python"
  }
 },
 "nbformat": 4,
 "nbformat_minor": 2,
 "cells": [
  {
   "cell_type": "code",
   "execution_count": 1,
   "metadata": {},
   "outputs": [],
   "source": [
    "import numpy as np\n",
    "a_ndarray = np.array([[-1, 2, 3], [4, -5, 6], [7, 8, -9]])\n",
    "b_ndarray = np.array([[0, 2, 1], [0, 2, -8], [2, 9, -1]])"
   ]
  },
  {
   "source": [
    "<h2>[Problem 1] Matrix product is calculated manually</h2>"
   ],
   "cell_type": "markdown",
   "metadata": {}
  },
  {
   "source": [
    "<img src=\"1.jpg\"/><br><br>"
   ],
   "cell_type": "markdown",
   "metadata": {}
  },
  {
   "source": [
    "<h2>[Problem 2] Calculation by NumPy function</h2>"
   ],
   "cell_type": "markdown",
   "metadata": {}
  },
  {
   "cell_type": "code",
   "execution_count": 2,
   "metadata": {},
   "outputs": [
    {
     "output_type": "stream",
     "name": "stdout",
     "text": [
      "[[  6  29 -20]\n [ 12  52  38]\n [-18 -51 -48]]\n"
     ]
    }
   ],
   "source": [
    "multiplied_matrix = a_ndarray@b_ndarray\n",
    "print(multiplied_matrix)"
   ]
  },
  {
   "source": [
    "<h2>[Problem 3] Implementation of calculation of a certain element</h2>"
   ],
   "cell_type": "markdown",
   "metadata": {}
  },
  {
   "cell_type": "code",
   "execution_count": 3,
   "metadata": {},
   "outputs": [
    {
     "output_type": "stream",
     "name": "stdout",
     "text": [
      "6\n"
     ]
    }
   ],
   "source": [
    "sum_row_0 = 0\n",
    "for column in range(3):\n",
    "    sum_row_0 += a_ndarray[0][column] * b_ndarray[column][0]\n",
    "print(sum_row_0)"
   ]
  },
  {
   "source": [
    "<h2>[Problem 4] Creating a function that performs matrix multiplication</h2>"
   ],
   "cell_type": "markdown",
   "metadata": {}
  },
  {
   "cell_type": "code",
   "execution_count": 4,
   "metadata": {},
   "outputs": [],
   "source": [
    "def matrix_mul_by_hand(A, B):\n",
    "    \"\"\"\n",
    "    A function that returns matrix of ndarray of multiplication of 2 ndarray matrix (i.e. A.B).\n",
    "    --------------\n",
    "    A: ndarray \n",
    "        Matrix size m x n in type ndarray\n",
    "    B: ndarray \n",
    "        Matrix size n x p in type ndarray\n",
    "    Returns\n",
    "    --------------\n",
    "    multiplied_matrix_manually: ndarray\n",
    "        The array after multiplication of 2 ndarray matrix.\n",
    "    \"\"\"\n",
    "    # 4. A combination of matrices with undefined matrix products\n",
    "    if not(isinstance(A, np.ndarray) & isinstance(B, np.ndarray)):\n",
    "        print(\"Invalid type of array! Please use ndarray\")\n",
    "        return\n",
    "    if (A.shape[1] != B.shape[0]):\n",
    "        print(\"Invalid size of array! Please use correct size (A: m x n and B: n x p)\")\n",
    "        return\n",
    "    multiplied_matrix_manually = np.array([])\n",
    "    row_element = np.array([])\n",
    "    row_array = np.array([])\n",
    "    for row in range (A.shape[0]):\n",
    "        for column1 in range(B.shape[1]):\n",
    "            for column2 in range(A.shape[1]):\n",
    "                row_element = np.append(row_element,A[row][column2] * B[column2][column1])\n",
    "            row_array = np.append(row_array,np.sum(row_element))\n",
    "            row_element = np.array([])\n",
    "        multiplied_matrix_manually = np.append(multiplied_matrix_manually,row_array)\n",
    "        #print(multiplied_matrix_manually)\n",
    "        row_array = np.array([])\n",
    "    multiplied_matrix_manually = multiplied_matrix_manually.reshape(A.shape[0], B.shape[1])\n",
    "    return multiplied_matrix_manually"
   ]
  },
  {
   "cell_type": "code",
   "execution_count": 5,
   "metadata": {},
   "outputs": [
    {
     "output_type": "stream",
     "name": "stdout",
     "text": [
      "[[  6.  29. -20.]\n [ 12.  52.  38.]\n [-18. -51. -48.]]\n"
     ]
    }
   ],
   "source": [
    "multiplied_matrix_manually = matrix_mul_by_hand(a_ndarray,b_ndarray)\n",
    "print(multiplied_matrix_manually)"
   ]
  },
  {
   "source": [
    "<h2>[Problem 5] Judge the input whose calculation is not defined"
   ],
   "cell_type": "markdown",
   "metadata": {}
  },
  {
   "source": [
    "I have already included it in my function above, which are print() function before calculating. I also include checking if user input wrong type of array."
   ],
   "cell_type": "markdown",
   "metadata": {}
  },
  {
   "cell_type": "code",
   "execution_count": 6,
   "metadata": {},
   "outputs": [],
   "source": [
    "d_ndarray = np.array([[-1, 2, 3], [4, -5, 6]])\n",
    "e_ndarray = np.array([[-9, 8, 7], [6, -5, 4]])"
   ]
  },
  {
   "cell_type": "code",
   "execution_count": 7,
   "metadata": {},
   "outputs": [
    {
     "output_type": "stream",
     "name": "stdout",
     "text": [
      "Invalid size of array! Please use correct size (A: m x n and B: n x p)\n"
     ]
    }
   ],
   "source": [
    "# Raise the error and returned!\n",
    "matrix_mul_by_hand(d_ndarray, e_ndarray)"
   ]
  },
  {
   "source": [
    "<h2>[Problem 6] Transposition</h2>"
   ],
   "cell_type": "markdown",
   "metadata": {}
  },
  {
   "cell_type": "code",
   "execution_count": 8,
   "metadata": {},
   "outputs": [
    {
     "output_type": "execute_result",
     "data": {
      "text/plain": [
       "array([[ 46.,  -4.],\n",
       "       [-34.,  73.]])"
      ]
     },
     "metadata": {},
     "execution_count": 8
    }
   ],
   "source": [
    "e_ndarray = e_ndarray.T\n",
    "# Now it calculate the product when size of matrix is correctly input\n",
    "matrix_mul_by_hand(d_ndarray, e_ndarray)"
   ]
  }
 ]
}