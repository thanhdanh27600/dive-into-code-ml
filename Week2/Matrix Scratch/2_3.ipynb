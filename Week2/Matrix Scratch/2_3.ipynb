{
 "metadata": {
  "language_info": {
   "codemirror_mode": {
    "name": "ipython",
    "version": 3
   },
   "file_extension": ".py",
   "mimetype": "text/x-python",
   "name": "python",
   "nbconvert_exporter": "python",
   "pygments_lexer": "ipython3",
   "version": "3.8.3-final"
  },
  "orig_nbformat": 2,
  "kernelspec": {
   "name": "python3",
   "display_name": "Python 3.8.3 64-bit ('base': conda)",
   "metadata": {
    "interpreter": {
     "hash": "3fc43e69d2b4e6f653b3eb9da533007c333d387150fccb0299356b77d92ef845"
    }
   }
  }
 },
 "nbformat": 4,
 "nbformat_minor": 2,
 "cells": [
  {
   "cell_type": "code",
   "execution_count": 1,
   "metadata": {},
   "outputs": [],
   "source": [
    "import numpy as np\n",
    "a_ndarray = np.array([[-1, 2, 3], [4, -5, 6], [7, 8, -9]])\n",
    "b_ndarray = np.array([[0, 2, 1], [0, 2, -8], [2, 9, -1]])"
   ]
  },
  {
   "source": [
    "<h2>[Problem 1] Matrix product is calculated manually</h2>"
   ],
   "cell_type": "markdown",
   "metadata": {}
  },
  {
   "source": [
    "<img src=\"1.jpg\"/><br><br>"
   ],
   "cell_type": "markdown",
   "metadata": {}
  },
  {
   "source": [
    "<h2>[Problem 2] Calculation by NumPy function</h2>"
   ],
   "cell_type": "markdown",
   "metadata": {}
  },
  {
   "cell_type": "code",
   "execution_count": 2,
   "metadata": {},
   "outputs": [
    {
     "output_type": "stream",
     "name": "stdout",
     "text": [
      "[[  6  29 -20]\n [ 12  52  38]\n [-18 -51 -48]]\n"
     ]
    }
   ],
   "source": [
    "multiplied_matrix = a_ndarray@b_ndarray\n",
    "print(multiplied_matrix)"
   ]
  },
  {
   "source": [
    "<h2>[Problem 3] Implementation of calculation of a certain element</h2>"
   ],
   "cell_type": "markdown",
   "metadata": {}
  },
  {
   "cell_type": "code",
   "execution_count": 3,
   "metadata": {},
   "outputs": [
    {
     "output_type": "stream",
     "name": "stdout",
     "text": [
      "6\nTrue\n"
     ]
    }
   ],
   "source": [
    "sum_row_0 = 0\n",
    "for column in range(3):\n",
    "    sum_row_0 += a_ndarray[0][column] * b_ndarray[column][0]\n",
    "print(sum_row_0)"
   ]
  },
  {
   "source": [
    "<h2>[Problem 4] Creating a function that performs matrix multiplication</h2>"
   ],
   "cell_type": "markdown",
   "metadata": {}
  },
  {
   "cell_type": "code",
   "execution_count": 4,
   "metadata": {},
   "outputs": [],
   "source": [
    "def matrix_mul_by_hand(A, B):\n",
    "    \"\"\"\n",
    "    A function that returns matrix of ndarray of multiplication of 2 ndarray matrix (i.e. A.B).\n",
    "    --------------\n",
    "    A: ndarray \n",
    "        Matrix size m x n in type ndarray\n",
    "    B: ndarray \n",
    "        Matrix size n x p in type ndarray\n",
    "    Returns\n",
    "    --------------\n",
    "    board_ndarray\n",
    "        ndarray containing the number of wheat on an nxm chess board.\n",
    "    \"\"\"\n",
    "    # 4. A combination of matrices with undefined matrix products\n",
    "    if not(isinstance(A, np.ndarray) & isinstance(B, np.ndarray)):\n",
    "        print(\"Invalid type of array! Please use ndarray\")\n",
    "    if (A.shape[1] != B.shape[0]):\n",
    "        print(\"Invalid size of array! Please use correct size (A: m x n and B: n x p)\")\n",
    "    multiplied_matrix_manually = np.array([])\n",
    "    row_element = np.array([])\n",
    "    row_array = np.array([])\n",
    "    for row in range (A.shape[0]):\n",
    "        for column1 in range(A.shape[1]):\n",
    "            for column2 in range(B.shape[1]):\n",
    "                row_element = np.append(row_element,a_ndarray[row][column2] * b_ndarray[column2][column1])\n",
    "            row_array = np.append(row_array,np.sum(row_element))\n",
    "            row_element = np.array([])\n",
    "        multiplied_matrix_manually = np.append(multiplied_matrix_manually,row_array)\n",
    "        row_array = np.array([])\n",
    "    multiplied_matrix_manually = multiplied_matrix_manually.reshape(A.shape[0], B.shape[1])\n",
    "    return multiplied_matrix_manually"
   ]
  },
  {
   "cell_type": "code",
   "execution_count": 5,
   "metadata": {},
   "outputs": [
    {
     "output_type": "stream",
     "name": "stdout",
     "text": [
      "[[  6.  29. -20.]\n [ 12.  52.  38.]\n [-18. -51. -48.]]\n"
     ]
    }
   ],
   "source": [
    "multiplied_matrix_manually = matrix_mul_by_hand(a_ndarray,b_ndarray)\n",
    "print(multiplied_matrix_manually)"
   ]
  },
  {
   "source": [
    "<h2>[Problem 5] Judge the input whose calculation is not defined"
   ],
   "cell_type": "markdown",
   "metadata": {}
  },
  {
   "source": [
    "I have already included it in my funtion above, which are print() function before calculating. I also include checking if user input wrong type of array."
   ],
   "cell_type": "markdown",
   "metadata": {}
  }
 ]
}