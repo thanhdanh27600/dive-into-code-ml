{
 "metadata": {
  "language_info": {
   "codemirror_mode": {
    "name": "ipython",
    "version": 3
   },
   "file_extension": ".py",
   "mimetype": "text/x-python",
   "name": "python",
   "nbconvert_exporter": "python",
   "pygments_lexer": "ipython3",
   "version": "3.8.3-final"
  },
  "orig_nbformat": 2,
  "kernelspec": {
   "name": "python383jvsc74a57bd03fc43e69d2b4e6f653b3eb9da533007c333d387150fccb0299356b77d92ef845",
   "display_name": "Python 3.8.3 64-bit ('base': conda)"
  }
 },
 "nbformat": 4,
 "nbformat_minor": 2,
 "cells": [
  {
   "cell_type": "code",
   "execution_count": 32,
   "metadata": {},
   "outputs": [
    {
     "output_type": "stream",
     "name": "stdout",
     "text": [
      "Mean : [4.86 3.31 1.45 0.22]\nVariance : [0.0764 0.0849 0.0105 0.0056]\n"
     ]
    }
   ],
   "source": [
    "import numpy as np\n",
    "from sklearn.preprocessing import StandardScaler\n",
    "from sklearn.datasets import load_iris\n",
    "data = load_iris()\n",
    "X = data.data[:10]\n",
    "scaler = StandardScaler()\n",
    "scaler.fit(X)\n",
    "print(\"Mean :\", scaler.mean_)\n",
    "print(\"Variance :\", scaler.var_)\n",
    "X_std = scaler.transform(X)"
   ]
  },
  {
   "source": [
    "# [Problem 1] Enumeration of classes used so far"
   ],
   "cell_type": "markdown",
   "metadata": {}
  },
  {
   "cell_type": "code",
   "execution_count": 33,
   "metadata": {},
   "outputs": [
    {
     "output_type": "execute_result",
     "data": {
      "text/plain": [
       "['BooleanDtype',\n",
       " 'Categorical',\n",
       " 'CategoricalDtype',\n",
       " 'CategoricalIndex',\n",
       " 'DataFrame']"
      ]
     },
     "metadata": {},
     "execution_count": 33
    }
   ],
   "source": [
    "# Pandas\n",
    "import pandas as pd\n",
    "import inspect\n",
    "\n",
    "classes = list(map(lambda x:x[0], inspect.getmembers(pd, inspect.isclass)))\n",
    "classes[:5]"
   ]
  },
  {
   "cell_type": "code",
   "execution_count": 34,
   "metadata": {},
   "outputs": [
    {
     "output_type": "execute_result",
     "data": {
      "text/plain": [
       "['ExecutableNotFoundError',\n",
       " 'LooseVersion',\n",
       " 'MatplotlibDeprecationWarning',\n",
       " 'MutableMapping',\n",
       " 'Parameter']"
      ]
     },
     "metadata": {},
     "execution_count": 34
    }
   ],
   "source": [
    "# matplotlib\n",
    "import matplotlib\n",
    "classes = list(map(lambda x:x[0], inspect.getmembers(matplotlib, inspect.isclass)))\n",
    "classes[:5]"
   ]
  },
  {
   "cell_type": "code",
   "execution_count": 35,
   "metadata": {},
   "outputs": [
    {
     "output_type": "execute_result",
     "data": {
      "text/plain": [
       "['__class__',\n",
       " '__delattr__',\n",
       " '__dict__',\n",
       " '__dir__',\n",
       " '__doc__',\n",
       " '__eq__',\n",
       " '__format__',\n",
       " '__ge__',\n",
       " '__getattribute__',\n",
       " '__getstate__',\n",
       " '__gt__',\n",
       " '__hash__',\n",
       " '__init__',\n",
       " '__init_subclass__',\n",
       " '__le__',\n",
       " '__lt__',\n",
       " '__module__',\n",
       " '__ne__',\n",
       " '__new__',\n",
       " '__reduce__',\n",
       " '__reduce_ex__',\n",
       " '__repr__',\n",
       " '__setattr__',\n",
       " '__setstate__',\n",
       " '__sizeof__',\n",
       " '__str__',\n",
       " '__subclasshook__',\n",
       " '__weakref__',\n",
       " '_check_n_features',\n",
       " '_get_param_names',\n",
       " '_get_tags',\n",
       " '_more_tags',\n",
       " '_repr_html_',\n",
       " '_repr_html_inner',\n",
       " '_repr_mimebundle_',\n",
       " '_reset',\n",
       " '_validate_data',\n",
       " 'copy',\n",
       " 'fit',\n",
       " 'fit_transform',\n",
       " 'get_params',\n",
       " 'inverse_transform',\n",
       " 'mean_',\n",
       " 'n_features_in_',\n",
       " 'n_samples_seen_',\n",
       " 'partial_fit',\n",
       " 'scale_',\n",
       " 'set_params',\n",
       " 'transform',\n",
       " 'var_',\n",
       " 'with_mean',\n",
       " 'with_std']"
      ]
     },
     "metadata": {},
     "execution_count": 35
    }
   ],
   "source": [
    "# Show all methods\n",
    "dir(scaler)"
   ]
  },
  {
   "source": [
    "# [Problem 2] Enumeration of methods and instance variables that have been used so far"
   ],
   "cell_type": "markdown",
   "metadata": {}
  },
  {
   "source": [
    "Method:\n",
    "* ndarray.sum()\n",
    "* pandas.DataFrame.groupby()\n",
    "* range()\n",
    "* zip()\n",
    "* matplotlib.pyplot.scatter\n",
    "\n",
    "Instance variables\n",
    "* ndarray.shape\n",
    "* pandas.DataFrame.columns\n",
    "* pandas.DataFrame.index\n",
    "* ndarray.dtype\n",
    "* ndarray.T"
   ],
   "cell_type": "markdown",
   "metadata": {}
  },
  {
   "source": [
    "# [Problem 3] Creating a standardized class by scratch"
   ],
   "cell_type": "markdown",
   "metadata": {}
  },
  {
   "cell_type": "code",
   "execution_count": 36,
   "metadata": {},
   "outputs": [],
   "source": [
    "class ScratchStandardScaler():\n",
    "    \"\"\"\n",
    "    Class for standardization\n",
    "\n",
    "    Attributes\n",
    "\n",
    "    mean_: ndarray, shape (n_features,) of the following form\n",
    "    average\n",
    "\n",
    "    var_: ndarray, shape (n_features,) of the following form\n",
    "    Distributed\n",
    "    \"\"\"\n",
    "    def fit(self, X):\n",
    "        \"\"\"\n",
    "        Calculate the mean and standard deviation for standardization.\n",
    "\n",
    "        Parameters\n",
    "\n",
    "        X: ndarray, shape (n_samples, n_features) of the following form\n",
    "        Training data\n",
    "        \"\"\"\n",
    "        self.mean_ = X.mean(axis=0)\n",
    "        self.var_ = X.var(axis=0)\n",
    "        \n",
    "    def transform(self, X):\n",
    "        \"\"\"\n",
    "       Standardize using the value obtained by fit.\n",
    "\n",
    "        Parameters\n",
    "\n",
    "        X: ndarray, shape (n_samples, n_features) of the following form\n",
    "        Feature value\n",
    "\n",
    "        Returns\n",
    "\n",
    "        X_scaled: ndarray, shape (n_samples, n_features) of the following form\n",
    "        Standardized special amount\n",
    "        \"\"\"\n",
    "        # Explanatory variable-mean of that column / square root of standard deviation of each column\n",
    "        X_scaled = (X - self.mean_) / np.sqrt(self.var_)\n",
    "        return X_scaled"
   ]
  },
  {
   "cell_type": "code",
   "execution_count": 37,
   "metadata": {},
   "outputs": [
    {
     "output_type": "stream",
     "name": "stdout",
     "text": [
      "Mean : [4.86 3.31 1.45 0.22]\nVanriance : [0.0764 0.0849 0.0105 0.0056]\n[[ 0.86828953  0.65207831 -0.48795004 -0.26726124]\n [ 0.14471492 -1.06391725 -0.48795004 -0.26726124]\n [-0.57885968 -0.37751902 -1.46385011 -0.26726124]\n [-0.94064699 -0.72071813  0.48795004 -0.26726124]\n [ 0.50650222  0.99527742 -0.48795004 -0.26726124]\n [ 1.95365143  2.02487476  2.43975018  2.40535118]\n [-0.94064699  0.3088792  -0.48795004  1.06904497]\n [ 0.50650222  0.3088792   0.48795004 -0.26726124]\n [-1.66422159 -1.40711636 -0.48795004 -0.26726124]\n [ 0.14471492 -0.72071813  0.48795004 -1.60356745]]\nX_std mean: 0.0, variance: 1.0\n"
     ]
    }
   ],
   "source": [
    "scratch_scaler = ScratchStandardScaler()\n",
    "scratch_scaler.fit(X)\n",
    "print(\"Mean :\", scratch_scaler.mean_)\n",
    "print(\"Vanriance :\", scratch_scaler.var_)\n",
    "X_std = scratch_scaler.transform(X)\n",
    "print(X_std)\n",
    "\n",
    "print('X_std mean: {:.1f}, variance: {:.1f}'.format(X_std.mean(), X_std.var()))"
   ]
  },
  {
   "cell_type": "code",
   "execution_count": 38,
   "metadata": {},
   "outputs": [
    {
     "output_type": "stream",
     "name": "stdout",
     "text": [
      "Mean : [4.86 3.31 1.45 0.22]\nVanriance : [0.0764 0.0849 0.0105 0.0056]\n[[ 0.86828953  0.65207831 -0.48795004 -0.26726124]\n [ 0.14471492 -1.06391725 -0.48795004 -0.26726124]\n [-0.57885968 -0.37751902 -1.46385011 -0.26726124]\n [-0.94064699 -0.72071813  0.48795004 -0.26726124]\n [ 0.50650222  0.99527742 -0.48795004 -0.26726124]\n [ 1.95365143  2.02487476  2.43975018  2.40535118]\n [-0.94064699  0.3088792  -0.48795004  1.06904497]\n [ 0.50650222  0.3088792   0.48795004 -0.26726124]\n [-1.66422159 -1.40711636 -0.48795004 -0.26726124]\n [ 0.14471492 -0.72071813  0.48795004 -1.60356745]]\nX_std mean: 0.0, variance: 1.0\n"
     ]
    }
   ],
   "source": [
    "# Compare with Standard library\n",
    "scaler = StandardScaler()\n",
    "scaler.fit(X)\n",
    "print(\"Mean :\", scaler.mean_)\n",
    "print(\"Vanriance :\", scaler.var_)\n",
    "X_std = scaler.transform(X)\n",
    "print(X_std)\n",
    "print('X_std mean: {:.1f}, variance: {:.1f}'.format(X_std.mean(), X_std.var()))"
   ]
  },
  {
   "source": [
    "# [Problem 4] Creating a class that performs 4 arithmetic operations"
   ],
   "cell_type": "markdown",
   "metadata": {}
  },
  {
   "cell_type": "code",
   "execution_count": 52,
   "metadata": {},
   "outputs": [
    {
     "output_type": "stream",
     "name": "stdout",
     "text": [
      "The initial value 5 has been set\nvalue+3: 5\nvalue-4: 1\nvalue*2: 2\nvalue/3: 0.6666666666666666\n"
     ]
    }
   ],
   "source": [
    "class ArithmeticOperation():\n",
    "    \"\"\"\n",
    "        A class that performs four arithmetic operations.\n",
    "     Set the argument to the initial value.\n",
    "     Please note that it will be updated after the calculation.\n",
    "     Example)\n",
    "     example = FourArithmeticOperations (5)\n",
    "     example.add (3)\n",
    "     ==> 8\n",
    "\n",
    "     Parameters\n",
    "     ----------\n",
    "     value: float or int\n",
    "         initial value\n",
    "\n",
    "     Attributes\n",
    "     ----------\n",
    "     value: float or int\n",
    "         Calculation result\n",
    "    \"\"\"\n",
    "    def __init__(self, value):\n",
    "        assert type(value) in [int,float], \"Please input Int or Float\"\n",
    "        self.value = value\n",
    "        print(\"The initial value {} has been set\".format(self.value))\n",
    "    def add(self, value):\n",
    "        \"\"\"\n",
    "        Add the received argument to self.value\n",
    "        \"\"\"\n",
    "        assert type(value) in [int,float], \"Please input Int or Float\"\n",
    "        self.value += value\n",
    "\n",
    "    def sub(self, value):\n",
    "        \"\"\"\n",
    "        Subtract the received argument to self.value\n",
    "        \"\"\"\n",
    "        assert type(value) in [int,float], \"Please input Int or Float\"\n",
    "        self.value -= value\n",
    "    def mul(self, value):\n",
    "        \"\"\"\n",
    "        Multiply the received argument to self.value\n",
    "        \"\"\"\n",
    "        assert type(value) in [int,float], \"Please input Int or Float\"\n",
    "        self.value *= value\n",
    "\n",
    "    def div(self, value):\n",
    "        \"\"\"\n",
    "        Divide the received argument to self.value\n",
    "        \"\"\"\n",
    "        assert type(value) in [int,float], \"Please input Int or Float\"\n",
    "        self.value /= value\n",
    "\n",
    "example = ArithmeticOperation(5)\n",
    "\n",
    "print(\"value+3: {}\".format(example.value))\n",
    "example.sub(4)\n",
    "print(\"value-4: {}\".format(example.value))\n",
    "example.mul(2)\n",
    "print(\"value*2: {}\".format(example.value))\n",
    "example.div(3)\n",
    "print(\"value/3: {}\".format(example.value))"
   ]
  }
 ]
}