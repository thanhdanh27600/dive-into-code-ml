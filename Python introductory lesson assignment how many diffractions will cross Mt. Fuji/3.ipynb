{
 "metadata": {
  "language_info": {
   "codemirror_mode": {
    "name": "ipython",
    "version": 3
   },
   "file_extension": ".py",
   "mimetype": "text/x-python",
   "name": "python",
   "nbconvert_exporter": "python",
   "pygments_lexer": "ipython3",
   "version": "3.8.3-final"
  },
  "orig_nbformat": 2,
  "kernelspec": {
   "name": "python3",
   "display_name": "Python 3.8.3 64-bit ('base': conda)",
   "metadata": {
    "interpreter": {
     "hash": "3fc43e69d2b4e6f653b3eb9da533007c333d387150fccb0299356b77d92ef845"
    }
   }
  }
 },
 "nbformat": 4,
 "nbformat_minor": 2,
 "cells": [
  {
   "source": [
    "<h2>[Problem 1] Minimum number of folds over Mt. Fuji</h2>"
   ],
   "cell_type": "markdown",
   "metadata": {}
  },
  {
   "cell_type": "code",
   "execution_count": 41,
   "metadata": {},
   "outputs": [],
   "source": [
    "DEFAULT_THICKNESS = 8e-8 #km\n",
    "MTFUJI_HEIGHT = 3.776 #km"
   ]
  },
  {
   "source": [
    "The distance in light-years to closest non-sun star (Proxima Centauri) is <b>4.2465 light-years</b>.<br>\n",
    "Convert to km, roughly <b>4.035e+13 km</b><br>\n",
    "<img src=\"1.jpg\"/><br>\n",
    "<img src=\"2.jpg\"/><br>"
   ],
   "cell_type": "markdown",
   "metadata": {}
  },
  {
   "cell_type": "code",
   "execution_count": 42,
   "metadata": {},
   "outputs": [
    {
     "output_type": "stream",
     "name": "stdout",
     "text": [
      "The thickness of paper exceeded Mt.Fuji (3776m) after folding 26 times.\n"
     ]
    }
   ],
   "source": [
    "folded_thickness = DEFAULT_THICKNESS\n",
    "times_folded = 0\n",
    "while(folded_thickness < MTFUJI_HEIGHT):\n",
    "  folded_thickness *= 2\n",
    "  times_folded += 1\n",
    "print(\"The thickness of paper exceeded Mt.Fuji (3776m) after folding {} times.\".format(times_folded))"
   ]
  },
  {
   "source": [
    "<h2>[Problem 2] Creating a function corresponding to an arbitrary thickness</h2>"
   ],
   "cell_type": "markdown",
   "metadata": {}
  },
  {
   "cell_type": "code",
   "execution_count": 43,
   "metadata": {},
   "outputs": [],
   "source": [
    "CLOSEST_NON_SUN_STAR = 4.035e+13 #km"
   ]
  },
  {
   "cell_type": "code",
   "execution_count": 44,
   "metadata": {},
   "outputs": [],
   "source": [
    "def times_fold_to_reach(distance, thickness = DEFAULT_THICKNESS):\n",
    "    \"\"\"\n",
    "    A function that calculate the number of folds the paper with certain thickness to reach that distance\n",
    "    --------------\n",
    "    distance: float\n",
    "        The distance to be reached by folding the paper\n",
    "    thickness: float (default : 0.00008)\n",
    "        The initial thickness of the paper\n",
    "    Returns\n",
    "    --------------\n",
    "    times_folded\n",
    "        The number of folds to reach the distance\n",
    "    \"\"\"\n",
    "    folded_thickness = thickness\n",
    "    times_folded = 0\n",
    "    while(folded_thickness < distance):\n",
    "        folded_thickness *= 2\n",
    "        times_folded += 1\n",
    "    return times_folded"
   ]
  },
  {
   "cell_type": "code",
   "execution_count": 45,
   "metadata": {},
   "outputs": [
    {
     "output_type": "stream",
     "name": "stdout",
     "text": [
      "Number of times you have to bend the paper to reach the \"closest non-Sun star\": 69 \n"
     ]
    }
   ],
   "source": [
    "print(\"Number of times you have to bend the paper to reach the \\\"closest non-Sun star\\\": {} \".format(times_fold_to_reach(CLOSEST_NON_SUN_STAR)))"
   ]
  },
  {
   "source": [
    "<h2>[Problem 3] Required paper length"
   ],
   "cell_type": "markdown",
   "metadata": {}
  },
  {
   "cell_type": "code",
   "execution_count": 46,
   "metadata": {},
   "outputs": [],
   "source": [
    "# Import math Library for \"pi\"\n",
    "import math"
   ]
  },
  {
   "cell_type": "code",
   "execution_count": 47,
   "metadata": {},
   "outputs": [],
   "source": [
    "def length_of_paper_needed_to_fold(distance, thickness = DEFAULT_THICKNESS):\n",
    "    \"\"\"\n",
    "    A function that calculate the length of paper with certain thickness to reach that distance\n",
    "    --------------\n",
    "    distance: float\n",
    "        The distance to be reached by folding the paper\n",
    "    thickness: float (default : 0.00008)\n",
    "        The initial thickness of the paper\n",
    "    Returns\n",
    "    --------------\n",
    "    length_paper_needed\n",
    "        The number of folds to reach the distance\n",
    "    \"\"\"\n",
    "    folded_thickness = thickness\n",
    "    times_folded = 0\n",
    "    while(folded_thickness < distance):\n",
    "        folded_thickness *= 2\n",
    "        times_folded += 1\n",
    "    length_paper_needed = (math.pi*thickness)/6 * (2**times_folded + 4) * (2**times_folded - 1)\n",
    "    return length_paper_needed"
   ]
  },
  {
   "cell_type": "code",
   "execution_count": 48,
   "metadata": {},
   "outputs": [
    {
     "output_type": "stream",
     "name": "stdout",
     "text": [
      "Length of the paper needed to reach the \"Moon\": 3240919444170780672.00 kilometers \n"
     ]
    }
   ],
   "source": [
    "DISTANCE_TO_MOON = 384400 #in km\r\n",
    "print(\"Length of the paper needed to reach the \\\"Moon\\\": {:.2f} kilometers \".format(length_of_paper_needed_to_fold(DISTANCE_TO_MOON)))"
   ]
  },
  {
   "cell_type": "code",
   "execution_count": 49,
   "metadata": {},
   "outputs": [
    {
     "output_type": "stream",
     "name": "stdout",
     "text": [
      "Length of the paper needed to reach the \"Mt.Fuji\": 188646348.49 kilometers \n"
     ]
    }
   ],
   "source": [
    "print(\"Length of the paper needed to reach the \\\"Mt.Fuji\\\": {:.2f} kilometers \".format(length_of_paper_needed_to_fold(MTFUJI_HEIGHT)))"
   ]
  },
  {
   "cell_type": "code",
   "execution_count": 50,
   "metadata": {},
   "outputs": [
    {
     "output_type": "stream",
     "name": "stdout",
     "text": [
      "Length of the paper needed to reach the \"closest non-Sun star\": 14595803601100344534048614534610944.00 kilometers \n"
     ]
    }
   ],
   "source": [
    "print(\"Length of the paper needed to reach the \\\"closest non-Sun star\\\": {:.2f} kilometers \".format(length_of_paper_needed_to_fold(CLOSEST_NON_SUN_STAR)))"
   ]
  }
 ]
}